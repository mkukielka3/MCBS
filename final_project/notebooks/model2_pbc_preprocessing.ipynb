{
 "cells": [
  {
   "cell_type": "markdown",
   "id": "ff5a9721",
   "metadata": {},
   "source": [
    "# **MCBS - Final Project** \n",
    "## Data pre-processing for Model 1"
   ]
  },
  {
   "cell_type": "code",
   "execution_count": 18,
   "id": "d1523680",
   "metadata": {},
   "outputs": [],
   "source": [
    "import os\n",
    "import shutil\n",
    "import random\n",
    "import pandas as pd\n",
    "import matplotlib.pyplot as plt"
   ]
  },
  {
   "cell_type": "code",
   "execution_count": 20,
   "id": "924d28de",
   "metadata": {},
   "outputs": [],
   "source": [
    "base_path = \"../data/pbc\"\n",
    "orig_data_path  = f\"{base_path}/orig\"\n",
    "split_data_path = f\"{base_path}/split\"\n",
    "num_of_imgs = 3000\n",
    "aug_data_path = f\"{split_data_path}/train_aug_{num_of_imgs}/\"\n",
    "\n",
    "OVERWRITE = False\n",
    "\n",
    "classes_dictionary_org = {'BA': 0, 'EO': 1,'ERB': 2,'IG': 3, 'LY': 4, 'MO': 5,'BNE': 6, 'PLATELET': 7 }\n",
    "classes_dictionary = {value: key for key, value in classes_dictionary_org.items()}\n",
    "\n",
    "abbreviation_dict = { 'BA':'basophil', \n",
    "                      'EO':'eosinophil',\n",
    "                      'ERB':'erythroblast',\n",
    "                      'IG':'ig',\n",
    "                      'LY':'lymphocyte',\n",
    "                      'MO':'monocyte',\n",
    "                      'BNE':'neutrophil',\n",
    "                      'PLATELET': 'platelet' }"
   ]
  },
  {
   "cell_type": "code",
   "execution_count": 21,
   "id": "559c4abc",
   "metadata": {},
   "outputs": [],
   "source": [
    "def create_directory(directory):\n",
    "    if os.path.exists(directory):\n",
    "        if OVERWRITE:\n",
    "            shutil.rmtree(directory)\n",
    "            os.mkdir(directory)\n",
    "    else:\n",
    "        os.mkdir(directory)"
   ]
  },
  {
   "cell_type": "markdown",
   "id": "c0f3dde9",
   "metadata": {},
   "source": [
    "### **Stratified split**"
   ]
  },
  {
   "cell_type": "code",
   "execution_count": 7,
   "id": "dc7a11bd",
   "metadata": {},
   "outputs": [
    {
     "name": "stderr",
     "output_type": "stream",
     "text": [
      "Copying files: 17092 files [00:01, 9125.58 files/s]\n"
     ]
    }
   ],
   "source": [
    "import splitfolders\n",
    "\n",
    "create_directory(split_data_path)\n",
    "\n",
    "create_directory(f'{split_data_path}/train')\n",
    "create_directory(f'{split_data_path}/test')\n",
    "create_directory(f'{split_data_path}/val')\n",
    "\n",
    "splitfolders.ratio(orig_data_path, output=split_data_path, seed=1234, ratio=(.8,.1,.1)) "
   ]
  },
  {
   "cell_type": "markdown",
   "id": "b10629a0",
   "metadata": {},
   "source": [
    "### **Data augmentation**"
   ]
  },
  {
   "cell_type": "code",
   "execution_count": 8,
   "id": "9006c88c",
   "metadata": {},
   "outputs": [],
   "source": [
    "from tensorflow.keras.preprocessing.image import ImageDataGenerator, array_to_img, img_to_array, load_img\n",
    "\n",
    "def get_number_of_files(directory):\n",
    "    return sum([len(files) for r, d, files in os.walk(directory)])\n",
    "\n",
    "def augment_data(directory, new_directory, abbv = \"IMG\", num_files_goal = 10000):\n",
    "    \n",
    "    new_subdirectory = os.path.join(new_directory, directory.split(\"/\")[-1])\n",
    "    \n",
    "    print(f\"Processing {directory}, augmented data will be saved to {new_subdirectory}.\")\n",
    "    shutil.copytree(directory, new_subdirectory)\n",
    "    \n",
    "    datagen = ImageDataGenerator(rotation_range=359,\n",
    "                                  width_shift_range=0.2,  \n",
    "                                  height_shift_range=0.2,    \n",
    "                                  shear_range=0.2,        \n",
    "                                  zoom_range=0.2,        \n",
    "                                  horizontal_flip=True,\n",
    "                                  vertical_flip=True,\n",
    "                                  fill_mode='nearest')\n",
    "\n",
    "    images = [os.path.join(directory, f) for f in os.listdir(directory) if os.path.isfile(os.path.join(directory, f))]\n",
    "\n",
    "    num_files = len(images)\n",
    "    \n",
    "    while get_number_of_files(new_subdirectory) < num_files_goal:\n",
    "        num_files = get_number_of_files(new_subdirectory)\n",
    "        \n",
    "        while num_files < num_files_goal:\n",
    "            file = random.choice(images)\n",
    "            img = load_img(file)  \n",
    "            x = img_to_array(img) \n",
    "            x = x.reshape((1, ) + x.shape)  \n",
    "            i = 0\n",
    "\n",
    "            # generate and save\n",
    "            for batch in datagen.flow(x, batch_size = 1, \n",
    "                                        save_to_dir = new_subdirectory,  \n",
    "                                        save_prefix =f'AUG_{abbv}',\n",
    "                                        save_format ='jpg'):\n",
    "                i += 1\n",
    "                num_files += 1\n",
    "                \n",
    "                if i >= 10: \n",
    "                    break\n",
    "\n",
    "    print(f\"Number of files after augmentation: {get_number_of_files(new_subdirectory)}\")"
   ]
  },
  {
   "cell_type": "code",
   "execution_count": 9,
   "id": "3407390a",
   "metadata": {},
   "outputs": [
    {
     "name": "stdout",
     "output_type": "stream",
     "text": [
      "Processing ../data/pbc/split/train/basophil, augmented data will be saved to ../data/pbc/split/train_aug_3000/basophil.\n",
      "Number of files after augmentation: 3000\n",
      "Processing ../data/pbc/split/train/eosinophil, augmented data will be saved to ../data/pbc/split/train_aug_3000/eosinophil.\n",
      "Number of files after augmentation: 3005\n",
      "Processing ../data/pbc/split/train/erythroblast, augmented data will be saved to ../data/pbc/split/train_aug_3000/erythroblast.\n",
      "Number of files after augmentation: 3004\n",
      "Processing ../data/pbc/split/train/ig, augmented data will be saved to ../data/pbc/split/train_aug_3000/ig.\n",
      "Number of files after augmentation: 3000\n",
      "Processing ../data/pbc/split/train/lymphocyte, augmented data will be saved to ../data/pbc/split/train_aug_3000/lymphocyte.\n",
      "Number of files after augmentation: 3003\n",
      "Processing ../data/pbc/split/train/monocyte, augmented data will be saved to ../data/pbc/split/train_aug_3000/monocyte.\n",
      "Number of files after augmentation: 3001\n",
      "Processing ../data/pbc/split/train/neutrophil, augmented data will be saved to ../data/pbc/split/train_aug_3000/neutrophil.\n",
      "Number of files after augmentation: 3004\n",
      "Processing ../data/pbc/split/train/platelet, augmented data will be saved to ../data/pbc/split/train_aug_3000/platelet.\n",
      "Number of files after augmentation: 3003\n"
     ]
    }
   ],
   "source": [
    "num_of_imgs = 3000\n",
    "\n",
    "create_directory(aug_data_path)\n",
    "\n",
    "for abbv, direct in abbreviation_dict.items():\n",
    "    augment_data(f\"{split_data_path}/train/{direct}\", aug_data_path, abbv, num_of_imgs)"
   ]
  },
  {
   "cell_type": "code",
   "execution_count": 24,
   "id": "f6324b9c",
   "metadata": {},
   "outputs": [
    {
     "data": {
      "image/png": "[encoded data removed]",
      "text/plain": [
       "<Figure size 432x288 with 1 Axes>"
      ]
     },
     "metadata": {},
     "output_type": "display_data"
    }
   ],
   "source": [
    "# image count per class after augmentation \n",
    "data_dist = {}\n",
    "\n",
    "for class_abbv, class_full in abbreviation_dict.items():\n",
    "    data_dist[class_abbv] = [class_full,\n",
    "                             get_number_of_files(f'{split_data_path}/train/{class_full}'),\n",
    "                            get_number_of_files(f'{aug_data_path}/{class_full}'),\n",
    "                             get_number_of_files(f'{split_data_path}/test/{class_full}'),\n",
    "                             get_number_of_files(f'{split_data_path}/val/{class_full}')]\n",
    "    \n",
    "data_dist_df = pd.DataFrame.from_dict(data_dist, 'index', columns=['Cell type','Orig data', 'Aug data',\n",
    "                                                                   'Test data', 'Val data'])\n",
    "data_dist_df['%']= data_dist_df['Orig data']/data_dist_df['Orig data'].sum()\n",
    "data_dist_df.sort_values(by = \"%\", inplace=True)\n",
    "\n",
    "data_dist_df.plot.bar(x= 'Cell type', y=['Orig data', 'Aug data'])\n",
    "plt.xticks(rotation=40)\n",
    "plt.show()"
   ]
  },
  {
   "cell_type": "code",
   "execution_count": 53,
   "id": "87f599b4",
   "metadata": {},
   "outputs": [
    {
     "data": {
      "image/png": "[encoded data removed]",
      "text/plain": [
       "<Figure size 648x288 with 1 Axes>"
      ]
     },
     "metadata": {},
     "output_type": "display_data"
    }
   ],
   "source": [
    "import numpy as np\n",
    "plt.style.use('seaborn-whitegrid')\n",
    "plt.figure(figsize=(9,4))\n",
    "plt.bar(data_dist_df['Cell type'], data_dist_df['Orig data'],  width=0.4,color = 'grey')\n",
    "plt.ylabel(\"# observations\")\n",
    "plt.xlabel(\"Cell type\")\n",
    "#plt.xticks(rotation=10, ha='right')\n",
    "plt.savefig('../figures/model2_pbc_ft_observ_cnt.png')\n",
    "plt.show()"
   ]
  },
  {
   "cell_type": "markdown",
   "id": "3820c386",
   "metadata": {},
   "source": [
    "## **Data distribution**"
   ]
  },
  {
   "cell_type": "code",
   "execution_count": 16,
   "id": "bf8d4d6b",
   "metadata": {},
   "outputs": [
    {
     "data": {
      "text/html": [
       "<div>\n",
       "<style scoped>\n",
       "    .dataframe tbody tr th:only-of-type {\n",
       "        vertical-align: middle;\n",
       "    }\n",
       "\n",
       "    .dataframe tbody tr th {\n",
       "        vertical-align: top;\n",
       "    }\n",
       "\n",
       "    .dataframe thead th {\n",
       "        text-align: right;\n",
       "    }\n",
       "</style>\n",
       "<table border=\"1\" class=\"dataframe\">\n",
       "  <thead>\n",
       "    <tr style=\"text-align: right;\">\n",
       "      <th></th>\n",
       "      <th>Cell type</th>\n",
       "      <th>Orig data</th>\n",
       "      <th>Aug data</th>\n",
       "      <th>Test data</th>\n",
       "      <th>Val data</th>\n",
       "      <th>%</th>\n",
       "    </tr>\n",
       "  </thead>\n",
       "  <tbody>\n",
       "    <tr>\n",
       "      <th>LY</th>\n",
       "      <td>lymphocyte</td>\n",
       "      <td>971</td>\n",
       "      <td>3003</td>\n",
       "      <td>122</td>\n",
       "      <td>121</td>\n",
       "      <td>0.071026</td>\n",
       "    </tr>\n",
       "    <tr>\n",
       "      <th>BA</th>\n",
       "      <td>basophil</td>\n",
       "      <td>974</td>\n",
       "      <td>3000</td>\n",
       "      <td>123</td>\n",
       "      <td>121</td>\n",
       "      <td>0.071246</td>\n",
       "    </tr>\n",
       "    <tr>\n",
       "      <th>MO</th>\n",
       "      <td>monocyte</td>\n",
       "      <td>1136</td>\n",
       "      <td>3001</td>\n",
       "      <td>142</td>\n",
       "      <td>142</td>\n",
       "      <td>0.083096</td>\n",
       "    </tr>\n",
       "    <tr>\n",
       "      <th>ERB</th>\n",
       "      <td>erythroblast</td>\n",
       "      <td>1240</td>\n",
       "      <td>3004</td>\n",
       "      <td>156</td>\n",
       "      <td>155</td>\n",
       "      <td>0.090703</td>\n",
       "    </tr>\n",
       "    <tr>\n",
       "      <th>PLATELET</th>\n",
       "      <td>platelet</td>\n",
       "      <td>1878</td>\n",
       "      <td>3003</td>\n",
       "      <td>236</td>\n",
       "      <td>234</td>\n",
       "      <td>0.137371</td>\n",
       "    </tr>\n",
       "    <tr>\n",
       "      <th>IG</th>\n",
       "      <td>ig</td>\n",
       "      <td>2316</td>\n",
       "      <td>3000</td>\n",
       "      <td>290</td>\n",
       "      <td>289</td>\n",
       "      <td>0.169410</td>\n",
       "    </tr>\n",
       "    <tr>\n",
       "      <th>EO</th>\n",
       "      <td>eosinophil</td>\n",
       "      <td>2493</td>\n",
       "      <td>3005</td>\n",
       "      <td>313</td>\n",
       "      <td>311</td>\n",
       "      <td>0.182357</td>\n",
       "    </tr>\n",
       "    <tr>\n",
       "      <th>BNE</th>\n",
       "      <td>neutrophil</td>\n",
       "      <td>2663</td>\n",
       "      <td>3004</td>\n",
       "      <td>334</td>\n",
       "      <td>332</td>\n",
       "      <td>0.194792</td>\n",
       "    </tr>\n",
       "  </tbody>\n",
       "</table>\n",
       "</div>"
      ],
      "text/plain": [
       "             Cell type  Orig data  Aug data  Test data  Val data         %\n",
       "LY          lymphocyte        971      3003        122       121  0.071026\n",
       "BA            basophil        974      3000        123       121  0.071246\n",
       "MO            monocyte       1136      3001        142       142  0.083096\n",
       "ERB       erythroblast       1240      3004        156       155  0.090703\n",
       "PLATELET      platelet       1878      3003        236       234  0.137371\n",
       "IG                  ig       2316      3000        290       289  0.169410\n",
       "EO          eosinophil       2493      3005        313       311  0.182357\n",
       "BNE         neutrophil       2663      3004        334       332  0.194792"
      ]
     },
     "execution_count": 16,
     "metadata": {},
     "output_type": "execute_result"
    }
   ],
   "source": [
    "data_dist_df"
   ]
  }
 ],
 "metadata": {
  "environment": {
   "name": "tf2-gpu.2-3.m71",
   "type": "gcloud",
   "uri": "gcr.io/deeplearning-platform-release/tf2-gpu.2-3:m71"
  },
  "kernelspec": {
   "display_name": "Python [conda env:root] *",
   "language": "python",
   "name": "conda-root-py"
  },
  "language_info": {
   "codemirror_mode": {
    "name": "ipython",
    "version": 3
   },
   "file_extension": ".py",
   "mimetype": "text/x-python",
   "name": "python",
   "nbconvert_exporter": "python",
   "pygments_lexer": "ipython3",
   "version": "3.7.10"
  }
 },
 "nbformat": 4,
 "nbformat_minor": 5
}
